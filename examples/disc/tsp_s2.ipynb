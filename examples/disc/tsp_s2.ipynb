{
 "cells": [
  {
   "cell_type": "code",
   "execution_count": 1,
   "metadata": {},
   "outputs": [],
   "source": [
    "import numpy as np\n",
    "import matplotlib\n",
    "import matplotlib.pyplot as plt\n",
    "from pythreejs import *\n",
    "from IPython.display import display\n",
    "import lorm\n",
    "from nfft import nfsft\n",
    "import disc.energy_curveling_s2"
   ]
  },
  {
   "cell_type": "code",
   "execution_count": 2,
   "metadata": {},
   "outputs": [],
   "source": [
    "s2 = lorm.manif.Sphere2()\n",
    "mu = lorm.manif.ManifoldPointArrayParameterized(s2)\n",
    "mu.coords = np.array([[1,1,1],[-1,-1,1],[-1,1,-1],[1,-1,-1]]) + 0.5*np.random.randn(4,3)\n",
    "mu_m = len(mu.coords)\n",
    "\n",
    "mu_N = 32\n",
    "nfsft_plan = nfsft.plan(mu_m,mu_N)\n",
    "nfsft_plan.set_local_coords(mu.local_coords)\n",
    "mu_hat = nfsft_plan.compute_Ymatrix_adjoint_multiplication(np.ones(mu_m),mu_N)\n",
    "mu_hat.array[:] = mu_hat.array[:]/mu_hat[0,0]"
   ]
  },
  {
   "cell_type": "code",
   "execution_count": 13,
   "metadata": {},
   "outputs": [],
   "source": [
    "# initial curve\n",
    "s2 = lorm.manif.Sphere2()\n",
    "points = lorm.manif.ManifoldPointArrayParameterized(s2)\n",
    "m = 50\n",
    "local_coords = 2*np.pi*np.random.rand(m,2)\n",
    "for i in range(m):\n",
    "    local_coords[i,0] = np.pi/2 + 0.1 * np.random.rand(1)#np.pi/2*(1+0.4*np.sin(10*np.pi*i/m))\n",
    "    local_coords[i,1] = 2*np.pi*i/m\n",
    "points.local_coords = local_coords"
   ]
  },
  {
   "cell_type": "code",
   "execution_count": 14,
   "metadata": {},
   "outputs": [],
   "source": [
    "# setup energy functional\n",
    "L=7\n",
    "N=16\n",
    "energy = disc.energy_curveling_s2.plan(m,N,0.005,L,closed=False)\n",
    "if N <= mu_hat.N:\n",
    "    for n in range(N+1):\n",
    "        energy._mu_hat[n,:] = mu_hat[n,:]\n",
    "if N > mu_hat.N:\n",
    "    for n in range(img_hat.N+1):\n",
    "        energy._mu_hat[n,:] = mu_hat[n,:]"
   ]
  },
  {
   "cell_type": "code",
   "execution_count": 15,
   "metadata": {},
   "outputs": [
    {
     "data": {
      "application/vnd.jupyter.widget-view+json": {
       "model_id": "2582837a8d074817a5ca9bae5f2a85ee",
       "version_major": 2,
       "version_minor": 0
      },
      "text/plain": [
       "Renderer(camera=PerspectiveCamera(children=(DirectionalLight(color='white', intensity=0.1, position=(3.0, 5.0,…"
      ]
     },
     "metadata": {},
     "output_type": "display_data"
    }
   ],
   "source": [
    "# setup interactive renderview\n",
    "g1 = BufferGeometry(attributes={'position': BufferAttribute(points.coords, normalized=False) })\n",
    "m1 = LineBasicMaterial(vertexColors='VertexColors', linewidth=2)\n",
    "line = Line(g1,m1)\n",
    "\n",
    "c = PerspectiveCamera(position=[0, 2, 2], up=[0, 2, 0],\n",
    "                      children=[DirectionalLight(color='white', position=[3, 5, 1], intensity=0.1)])\n",
    "sphere = Mesh(SphereBufferGeometry(0.99,32,16), MeshStandardMaterial(color='white'))\n",
    "\n",
    "children = [line, sphere, c,  AmbientLight(color='#FFFFFF')]\n",
    "for p in mu.coords:\n",
    "    point = Mesh(SphereBufferGeometry(0.05,1,1), MeshStandardMaterial(color='blue'))\n",
    "    point.position = (p[0],p[1],p[2])\n",
    "    children.append( point )\n",
    "\n",
    "scene = Scene(children=children)\n",
    "\n",
    "renderer = Renderer(camera=c,\n",
    "                    scene=scene, \n",
    "                    controls=[OrbitControls(controlling=c)])\n",
    "renderer.width =400\n",
    "renderer.height =400\n",
    "display(renderer)\n",
    "\n",
    "def update_points(p):\n",
    "    g1.attributes['position'].array = p.coords\n",
    "    return"
   ]
  },
  {
   "cell_type": "code",
   "execution_count": 19,
   "metadata": {
    "scrolled": true
   },
   "outputs": [
    {
     "name": "stdout",
     "output_type": "stream",
     "text": [
      "Initial value: f[0] = 0.01728662247262853\n",
      "f[1] = 0.01728600761439531\n",
      "f[2] = 0.01728552593754511\n",
      "f[3] = 0.017284940903970845\n",
      "f[4] = 0.017284381923813943\n",
      "f[5] = 0.01728379432201199\n",
      "f[6] = 0.017283221802283644\n",
      "f[7] = 0.017282581885789183\n",
      "f[8] = 0.017282053638924873\n",
      "f[9] = 0.01728154628949544\n",
      "f[10] = 0.017281140026622205\n",
      "f[11] = 0.01728056571784877\n",
      "f[12] = 0.017280299535372412\n",
      "f[13] = 0.017279946794708245\n",
      "f[14] = 0.017279656825482513\n",
      "f[15] = 0.017279380945232754\n",
      "f[16] = 0.017279137199664583\n",
      "f[17] = 0.017278801101941858\n",
      "f[18] = 0.01727844659325519\n",
      "f[19] = 0.01727811886846634\n",
      "f[20] = 0.0172779462552561\n",
      "f[21] = 0.017277666424150358\n",
      "f[22] = 0.0172774569813802\n",
      "f[23] = 0.017277320017487077\n",
      "f[24] = 0.017277169501957568\n",
      "f[25] = 0.017277019801286722\n",
      "f[26] = 0.017276790886339665\n",
      "f[27] = 0.01727659709158868\n",
      "f[28] = 0.017276436049700652\n",
      "f[29] = 0.017276302051701258\n",
      "f[30] = 0.01727610430358192\n",
      "f[31] = 0.01727592172219579\n",
      "f[32] = 0.01727584916778894\n",
      "f[33] = 0.017275624473535738\n",
      "f[34] = 0.01727547569418946\n",
      "f[35] = 0.01727533080092825\n",
      "f[36] = 0.01727505539745645\n",
      "f[37] = 0.017274922716012907\n",
      "f[38] = 0.017274732756694895\n",
      "f[39] = 0.017274592047504627\n",
      "f[40] = 0.017274421809954792\n",
      "f[41] = 0.01727432531224492\n",
      "f[42] = 0.01727417406624028\n",
      "f[43] = 0.017274045704387557\n",
      "f[44] = 0.017273955441509267\n",
      "f[45] = 0.017273861361333694\n",
      "f[46] = 0.017273733113283757\n",
      "f[47] = 0.01727364932762656\n",
      "f[48] = 0.017273412312060834\n",
      "f[49] = 0.017273258252616802\n",
      "f[50] = 0.017273116421881594\n",
      "Reached maximal iterations!\n"
     ]
    }
   ],
   "source": [
    "# compute local minimizer\n",
    "method = lorm.optim.ConjugateGradientMethod(max_iter=50)\n",
    "method.listener = update_points\n",
    "for i in range(1):\n",
    "    points = method.run(energy,points)"
   ]
  },
  {
   "cell_type": "code",
   "execution_count": 20,
   "metadata": {},
   "outputs": [
    {
     "data": {
      "text/plain": [
       "<matplotlib.lines.Line2D at 0x7fbcf8127130>"
      ]
     },
     "execution_count": 20,
     "metadata": {},
     "output_type": "execute_result"
    },
    {
     "data": {
      "image/png": "[encoded data removed]",
      "text/plain": [
       "<Figure size 432x288 with 1 Axes>"
      ]
     },
     "metadata": {
      "needs_background": "light"
     },
     "output_type": "display_data"
    }
   ],
   "source": [
    "# plot the distance of consecutive points on the curve\n",
    "fig = plt.figure()\n",
    "bx = fig.add_subplot(111)\n",
    "bx.axis(np.array([0,m,0,1.2*energy._L]))\n",
    "bx.set_xlabel(np.sum(energy._eval_lengths(points.local_coords)))\n",
    "distance = plt.Line2D(np.linspace(0,m,m),m*energy._eval_lengths(points.local_coords))\n",
    "bx.add_line(distance)"
   ]
  },
  {
   "cell_type": "code",
   "execution_count": 21,
   "metadata": {},
   "outputs": [
    {
     "data": {
      "text/plain": [
       "[<matplotlib.lines.Line2D at 0x7fbcf8089eb0>,\n",
       " <matplotlib.lines.Line2D at 0x7fbcf8089ee0>]"
      ]
     },
     "execution_count": 21,
     "metadata": {},
     "output_type": "execute_result"
    },
    {
     "data": {
      "image/png": "[encoded data removed]",
      "text/plain": [
       "<Figure size 432x288 with 1 Axes>"
      ]
     },
     "metadata": {
      "needs_background": "light"
     },
     "output_type": "display_data"
    }
   ],
   "source": [
    "# compute the quadratic approximation to test the gradient and Hessian\n",
    "%matplotlib inline\n",
    "v=energy.grad(points)\n",
    "v.coords = 0.002*np.random.randn(m,3)\n",
    "f,q, s = lorm.utils.eval_objective_function_with_quadratic_approximation(energy,v)\n",
    "plt.plot(s,f,s,q)"
   ]
  },
  {
   "cell_type": "code",
   "execution_count": null,
   "metadata": {},
   "outputs": [],
   "source": []
  }
 ],
 "metadata": {
  "kernelspec": {
   "display_name": "Python 3.8.4 64-bit",
   "language": "python",
   "name": "python38464bitfe4da77c7f7d45e5a360c18ef7e8e0af"
  },
  "language_info": {
   "codemirror_mode": {
    "name": "ipython",
    "version": 3
   },
   "file_extension": ".py",
   "mimetype": "text/x-python",
   "name": "python",
   "nbconvert_exporter": "python",
   "pygments_lexer": "ipython3",
   "version": "3.9.1"
  }
 },
 "nbformat": 4,
 "nbformat_minor": 2
}
