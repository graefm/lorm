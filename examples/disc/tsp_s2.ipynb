{
 "cells": [
  {
   "cell_type": "code",
   "execution_count": 1,
   "metadata": {},
   "outputs": [],
   "source": [
    "import numpy as np\n",
    "import matplotlib\n",
    "import matplotlib.pyplot as plt\n",
    "from pythreejs import *\n",
    "from IPython.display import display\n",
    "import lorm\n",
    "from nfft import nfsft\n",
    "import disc.energy_curveling_s2"
   ]
  },
  {
   "cell_type": "code",
   "execution_count": 2,
   "metadata": {},
   "outputs": [],
   "source": [
    "s2 = lorm.manif.Sphere2()\n",
    "mu = lorm.manif.ManifoldPointArrayParameterized(s2)\n",
    "mu.coords = np.array([[1,1,1],[-1,-1,1],[-1,1,-1],[1,-1,-1]]) + 0.5*np.random.randn(4,3)\n",
    "mu_m = len(mu.coords)\n",
    "\n",
    "mu_N = 32\n",
    "nfsft_plan = nfsft.plan(mu_m,mu_N)\n",
    "nfsft_plan.set_local_coords(mu.local_coords)\n",
    "mu_hat = nfsft_plan.compute_Ymatrix_adjoint_multiplication(np.ones(mu_m),mu_N)\n",
    "mu_hat.array[:] = mu_hat.array[:]/mu_hat[0,0]"
   ]
  },
  {
   "cell_type": "code",
   "execution_count": 3,
   "metadata": {},
   "outputs": [],
   "source": [
    "# initial curve\n",
    "s2 = lorm.manif.Sphere2()\n",
    "points = lorm.manif.ManifoldPointArrayParameterized(s2)\n",
    "m = 50\n",
    "local_coords = 2*np.pi*np.random.rand(m,2)\n",
    "for i in range(m):\n",
    "    local_coords[i,0] = np.pi/2 + 0.1 * np.random.rand(1)#np.pi/2*(1+0.4*np.sin(10*np.pi*i/m))\n",
    "    local_coords[i,1] = 2*np.pi*i/m\n",
    "points.local_coords = local_coords"
   ]
  },
  {
   "cell_type": "code",
   "execution_count": 4,
   "metadata": {},
   "outputs": [],
   "source": [
    "# setup energy functional\n",
    "L=7\n",
    "N=16\n",
    "energy = disc.energy_curveling_s2.plan(m,N,0.005,L,closed=False)\n",
    "if N <= mu_hat.N:\n",
    "    for n in range(N+1):\n",
    "        energy._mu_hat[n,:] = mu_hat[n,:]\n",
    "if N > mu_hat.N:\n",
    "    for n in range(img_hat.N+1):\n",
    "        energy._mu_hat[n,:] = mu_hat[n,:]"
   ]
  },
  {
   "cell_type": "code",
   "execution_count": 6,
   "metadata": {},
   "outputs": [
    {
     "data": {
      "application/vnd.jupyter.widget-view+json": {
       "model_id": "fa4f5836b2ab422787e7cbe302025866",
       "version_major": 2,
       "version_minor": 0
      },
      "text/plain": [
       "Renderer(camera=PerspectiveCamera(children=(DirectionalLight(color='white', intensity=0.1, position=(3.0, 5.0,…"
      ]
     },
     "metadata": {},
     "output_type": "display_data"
    }
   ],
   "source": [
    "# setup interactive renderview\n",
    "g1 = BufferGeometry(attributes={'position': BufferAttribute(points.coords.astype(np.float32), normalized=False) })\n",
    "m1 = LineBasicMaterial(vertexColors='VertexColors', linewidth=2)\n",
    "line = Line(g1,m1)\n",
    "\n",
    "c = PerspectiveCamera(position=[0, 2, 2], up=[0, 2, 0],\n",
    "                      children=[DirectionalLight(color='white', position=[3, 5, 1], intensity=0.1)])\n",
    "sphere = Mesh(SphereBufferGeometry(0.99,32,16), MeshStandardMaterial(color='white'))\n",
    "\n",
    "children = [line, sphere, c,  AmbientLight(color='#FFFFFF')]\n",
    "for p in mu.coords:\n",
    "    point = Mesh(SphereBufferGeometry(0.05,1,1), MeshStandardMaterial(color='blue'))\n",
    "    point.position = (p[0],p[1],p[2])\n",
    "    children.append( point )\n",
    "\n",
    "scene = Scene(children=children)\n",
    "\n",
    "renderer = Renderer(camera=c,\n",
    "                    scene=scene, \n",
    "                    controls=[OrbitControls(controlling=c)])\n",
    "renderer.width =400\n",
    "renderer.height =400\n",
    "display(renderer)\n",
    "\n",
    "def update_points(p):\n",
    "    g1.attributes['position'].array = p.coords.astype(np.float32)\n",
    "    return"
   ]
  },
  {
   "cell_type": "code",
   "execution_count": 9,
   "metadata": {
    "scrolled": true
   },
   "outputs": [
    {
     "name": "stdout",
     "output_type": "stream",
     "text": [
      "Initial value: f[0] = 0.021364778564421212\n",
      "f[1] = 0.02135771469644996\n",
      "f[2] = 0.02135212535985248\n",
      "f[3] = 0.021348010020533627\n",
      "f[4] = 0.021341793510638793\n",
      "f[5] = 0.021335826965835848\n",
      "f[6] = 0.021328810400454687\n",
      "f[7] = 0.02131993757289697\n",
      "f[8] = 0.02131285038190916\n",
      "f[9] = 0.02130566859077717\n",
      "f[10] = 0.02129758432123057\n",
      "f[11] = 0.021290858454475654\n",
      "f[12] = 0.021285001135950686\n",
      "f[13] = 0.02127798363681557\n",
      "f[14] = 0.02127112869309115\n",
      "f[15] = 0.021262933407075232\n",
      "f[16] = 0.021255367621949257\n",
      "f[17] = 0.021245812956667196\n",
      "f[18] = 0.02123803609166763\n",
      "f[19] = 0.021226292159269255\n",
      "f[20] = 0.021216164233370974\n",
      "f[21] = 0.021201462682738835\n",
      "f[22] = 0.02118818369493879\n",
      "f[23] = 0.02117127663015567\n",
      "f[24] = 0.021157247077514058\n",
      "f[25] = 0.021145013022167477\n",
      "f[26] = 0.021134469281719227\n",
      "f[27] = 0.0211215015876901\n",
      "f[28] = 0.021109931999772256\n",
      "f[29] = 0.021100867799391482\n",
      "f[30] = 0.021092848457134866\n",
      "f[31] = 0.021084790622491346\n",
      "f[32] = 0.021074727178387948\n",
      "f[33] = 0.021056696715360895\n",
      "f[34] = 0.021045372135574777\n",
      "f[35] = 0.021033116721488367\n",
      "f[36] = 0.02102317248157021\n",
      "f[37] = 0.02101412506113262\n",
      "f[38] = 0.02100769763226319\n",
      "f[39] = 0.02100296213729163\n",
      "f[40] = 0.02099799847540003\n",
      "f[41] = 0.020994818377413765\n",
      "f[42] = 0.020991604541483872\n",
      "f[43] = 0.020988387259825925\n",
      "f[44] = 0.020985078279958533\n",
      "f[45] = 0.020983169036339025\n",
      "f[46] = 0.02098071170998792\n",
      "f[47] = 0.020978553366728575\n",
      "f[48] = 0.02097675702539588\n",
      "f[49] = 0.020974923938777007\n",
      "f[50] = 0.02097386462090462\n",
      "Reached maximal iterations!\n"
     ]
    }
   ],
   "source": [
    "# compute local minimizer\n",
    "method = lorm.optim.ConjugateGradientMethod(max_iter=50)\n",
    "method.listener = update_points\n",
    "for i in range(1):\n",
    "    points = method.run(energy,points)"
   ]
  },
  {
   "cell_type": "code",
   "execution_count": 10,
   "metadata": {},
   "outputs": [
    {
     "data": {
      "text/plain": [
       "<matplotlib.lines.Line2D at 0x7f369c4fb490>"
      ]
     },
     "execution_count": 10,
     "metadata": {},
     "output_type": "execute_result"
    },
    {
     "data": {
      "image/png": "[encoded data removed]",
      "text/plain": [
       "<Figure size 432x288 with 1 Axes>"
      ]
     },
     "metadata": {
      "needs_background": "light"
     },
     "output_type": "display_data"
    }
   ],
   "source": [
    "# plot the distance of consecutive points on the curve\n",
    "fig = plt.figure()\n",
    "bx = fig.add_subplot(111)\n",
    "bx.axis(np.array([0,m,0,1.2*energy._L]))\n",
    "bx.set_xlabel(np.sum(energy._eval_lengths(points.local_coords)))\n",
    "distance = plt.Line2D(np.linspace(0,m,m),m*energy._eval_lengths(points.local_coords))\n",
    "bx.add_line(distance)"
   ]
  },
  {
   "cell_type": "code",
   "execution_count": 11,
   "metadata": {},
   "outputs": [
    {
     "data": {
      "text/plain": [
       "[<matplotlib.lines.Line2D at 0x7f369c4f5090>,\n",
       " <matplotlib.lines.Line2D at 0x7f369c4f5510>]"
      ]
     },
     "execution_count": 11,
     "metadata": {},
     "output_type": "execute_result"
    },
    {
     "data": {
      "image/png": "[encoded data removed]",
      "text/plain": [
       "<Figure size 432x288 with 1 Axes>"
      ]
     },
     "metadata": {
      "needs_background": "light"
     },
     "output_type": "display_data"
    }
   ],
   "source": [
    "# compute the quadratic approximation to test the gradient and Hessian\n",
    "%matplotlib inline\n",
    "v=energy.grad(points)\n",
    "v.coords = 0.002*np.random.randn(m,3)\n",
    "f,q, s = lorm.utils.eval_objective_function_with_quadratic_approximation(energy,v)\n",
    "plt.plot(s,f,s,q)"
   ]
  },
  {
   "cell_type": "code",
   "execution_count": null,
   "metadata": {},
   "outputs": [],
   "source": []
  }
 ],
 "metadata": {
  "kernelspec": {
   "display_name": "Python 3.8.4 64-bit",
   "language": "python",
   "name": "python38464bitfe4da77c7f7d45e5a360c18ef7e8e0af"
  },
  "language_info": {
   "codemirror_mode": {
    "name": "ipython",
    "version": 3
   },
   "file_extension": ".py",
   "mimetype": "text/x-python",
   "name": "python",
   "nbconvert_exporter": "python",
   "pygments_lexer": "ipython3",
   "version": "3.10.4"
  }
 },
 "nbformat": 4,
 "nbformat_minor": 2
}
