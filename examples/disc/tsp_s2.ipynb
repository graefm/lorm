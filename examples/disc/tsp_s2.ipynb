{
 "cells": [
  {
   "cell_type": "code",
   "execution_count": 1,
   "metadata": {},
   "outputs": [],
   "source": [
    "import numpy as np\n",
    "import matplotlib\n",
    "import matplotlib.pyplot as plt\n",
    "from pythreejs import *\n",
    "from IPython.display import display\n",
    "import lorm\n",
    "from nfft import nfsft\n",
    "import disc.energy_curveling_s2"
   ]
  },
  {
   "cell_type": "code",
   "execution_count": 19,
   "metadata": {},
   "outputs": [],
   "source": [
    "s2 = lorm.manif.Sphere2()\n",
    "mu = lorm.manif.ManifoldPointArrayParameterized(s2)\n",
    "mu.coords = np.array([[1,1,1],[-1,-1,1],[-1,1,-1],[1,-1,-1]]) + 0.5*np.random.randn(4,3)\n",
    "mu_m = len(mu.coords)\n",
    "\n",
    "mu_N = 32\n",
    "nfsft_plan = nfsft.plan(mu_m,mu_N)\n",
    "nfsft_plan.set_local_coords(mu.local_coords)\n",
    "mu_hat = nfsft_plan.compute_Ymatrix_adjoint_multiplication(np.ones(mu_m),mu_N)\n",
    "mu_hat.array[:] = mu_hat.array[:]/mu_hat[0,0]"
   ]
  },
  {
   "cell_type": "code",
   "execution_count": 28,
   "metadata": {},
   "outputs": [],
   "source": [
    "# initial curve\n",
    "s2 = lorm.manif.Sphere2()\n",
    "points = lorm.manif.ManifoldPointArrayParameterized(s2)\n",
    "m = 50\n",
    "local_coords = 2*np.pi*np.random.rand(m,2)\n",
    "for i in range(m):\n",
    "    local_coords[i,0] = np.pi/2 + 0.1 * np.random.rand(1)#np.pi/2*(1+0.4*np.sin(10*np.pi*i/m))\n",
    "    local_coords[i,1] = 2*np.pi*i/m\n",
    "points.local_coords = local_coords"
   ]
  },
  {
   "cell_type": "code",
   "execution_count": 29,
   "metadata": {},
   "outputs": [],
   "source": [
    "# setup energy functional\n",
    "L=7\n",
    "N=16\n",
    "energy = disc.energy_curveling_s2.plan(m,N,0.01,L)\n",
    "if N <= mu_hat.N:\n",
    "    for n in range(N+1):\n",
    "        energy._mu_hat[n,:] = mu_hat[n,:]\n",
    "if N > mu_hat.N:\n",
    "    for n in range(img_hat.N+1):\n",
    "        energy._mu_hat[n,:] = mu_hat[n,:]"
   ]
  },
  {
   "cell_type": "code",
   "execution_count": 31,
   "metadata": {},
   "outputs": [
    {
     "data": {
      "application/vnd.jupyter.widget-view+json": {
       "model_id": "fc40121a16364bbbabe7aaa4cb07b1fe",
       "version_major": 2,
       "version_minor": 0
      },
      "text/plain": [
       "Renderer(camera=PerspectiveCamera(children=(DirectionalLight(color='white', intensity=0.1, position=(3.0, 5.0,…"
      ]
     },
     "metadata": {},
     "output_type": "display_data"
    }
   ],
   "source": [
    "# setup interactive renderview\n",
    "g1 = BufferGeometry(attributes={'position': BufferAttribute(points.coords, normalized=False) })\n",
    "m1 = LineBasicMaterial(vertexColors='VertexColors', linewidth=2)\n",
    "line = Line(g1,m1)\n",
    "\n",
    "c = PerspectiveCamera(position=[0, 2, 2], up=[0, 2, 0],\n",
    "                      children=[DirectionalLight(color='white', position=[3, 5, 1], intensity=0.1)])\n",
    "sphere = Mesh(SphereBufferGeometry(0.99,32,16), MeshStandardMaterial(color='white'))\n",
    "\n",
    "children = [line, sphere, c,  AmbientLight(color='#FFFFFF')]\n",
    "for p in mu.coords:\n",
    "    point = Mesh(SphereBufferGeometry(0.05,1,1), MeshStandardMaterial(color='blue'))\n",
    "    point.position = (p[0],p[1],p[2])\n",
    "    children.append( point )\n",
    "\n",
    "scene = Scene(children=children)\n",
    "\n",
    "renderer = Renderer(camera=c,\n",
    "                    scene=scene, \n",
    "                    controls=[OrbitControls(controlling=c)])\n",
    "renderer.width =400\n",
    "renderer.height =400\n",
    "display(renderer)\n",
    "\n",
    "def update_points(p):\n",
    "    g1.attributes['position'].array = p.coords\n",
    "    return"
   ]
  },
  {
   "cell_type": "code",
   "execution_count": 34,
   "metadata": {
    "scrolled": true
   },
   "outputs": [
    {
     "name": "stdout",
     "output_type": "stream",
     "text": [
      "Initial value: f[0] = 0.027016361138196655\n",
      "f[1] = 0.027013615707292334\n",
      "f[2] = 0.027010729566759744\n",
      "f[3] = 0.027008849801581074\n",
      "f[4] = 0.027007013829547274\n",
      "f[5] = 0.027005684979334445\n",
      "f[6] = 0.027004230837240552\n",
      "f[7] = 0.027002960210952377\n",
      "f[8] = 0.02700129827317569\n",
      "f[9] = 0.026999277745258437\n",
      "f[10] = 0.026997537370478497\n",
      "f[11] = 0.026996039417963233\n",
      "f[12] = 0.026994083271554288\n",
      "f[13] = 0.026991898258781094\n",
      "f[14] = 0.026990232390977816\n",
      "f[15] = 0.026989038467857218\n",
      "f[16] = 0.026987854218209085\n",
      "f[17] = 0.02698626014201809\n",
      "f[18] = 0.02698487369025796\n",
      "f[19] = 0.02698367600527176\n",
      "f[20] = 0.02698257242859691\n",
      "f[21] = 0.026981082856641726\n",
      "f[22] = 0.026979961594178283\n",
      "f[23] = 0.02697825801788898\n",
      "f[24] = 0.026977652948556956\n",
      "f[25] = 0.026976583316283692\n",
      "f[26] = 0.0269754736736852\n",
      "f[27] = 0.026974726026718472\n",
      "f[28] = 0.026973509922542216\n",
      "f[29] = 0.0269728693294452\n",
      "f[30] = 0.02697229381103442\n",
      "f[31] = 0.026971497988797218\n",
      "f[32] = 0.0269703995868866\n",
      "f[33] = 0.026969583267306273\n",
      "f[34] = 0.026968583296521458\n",
      "f[35] = 0.026967850728389742\n",
      "f[36] = 0.026966921007703537\n",
      "f[37] = 0.0269657551820774\n",
      "f[38] = 0.02696410291351601\n",
      "f[39] = 0.026962649046189623\n",
      "f[40] = 0.02696167858570809\n",
      "f[41] = 0.026960163829113856\n",
      "f[42] = 0.02695839018617073\n",
      "f[43] = 0.026956623376332024\n",
      "f[44] = 0.026955430223867302\n",
      "f[45] = 0.02695345783018977\n",
      "f[46] = 0.026950777110266794\n",
      "f[47] = 0.026948511405545012\n",
      "f[48] = 0.026946383807541212\n",
      "f[49] = 0.026944678631750495\n",
      "f[50] = 0.026941653905416682\n",
      "Reached maximal iterations!\n"
     ]
    }
   ],
   "source": [
    "# compute local minimizer\n",
    "method = lorm.optim.ConjugateGradientMethod(max_iter=50)\n",
    "method.listener = update_points\n",
    "for i in range(1):\n",
    "    points = method.run(energy,points)"
   ]
  },
  {
   "cell_type": "code",
   "execution_count": 35,
   "metadata": {},
   "outputs": [
    {
     "data": {
      "text/plain": [
       "<matplotlib.lines.Line2D at 0x7f814836c670>"
      ]
     },
     "execution_count": 35,
     "metadata": {},
     "output_type": "execute_result"
    },
    {
     "data": {
      "image/png": "[encoded data removed]",
      "text/plain": [
       "<Figure size 432x288 with 1 Axes>"
      ]
     },
     "metadata": {
      "needs_background": "light"
     },
     "output_type": "display_data"
    }
   ],
   "source": [
    "# plot the distance of consecutive points on the curve\n",
    "fig = plt.figure()\n",
    "bx = fig.add_subplot(111)\n",
    "bx.axis(np.array([0,m,0,1.2*energy._L]))\n",
    "bx.set_xlabel(np.sum(energy._eval_lengths(points.local_coords)))\n",
    "distance = plt.Line2D(np.linspace(0,m,m),m*energy._eval_lengths(points.local_coords))\n",
    "bx.add_line(distance)"
   ]
  },
  {
   "cell_type": "code",
   "execution_count": 32,
   "metadata": {},
   "outputs": [
    {
     "data": {
      "text/plain": [
       "[<matplotlib.lines.Line2D at 0x7f6746699280>,\n",
       " <matplotlib.lines.Line2D at 0x7f6746699e80>]"
      ]
     },
     "execution_count": 32,
     "metadata": {},
     "output_type": "execute_result"
    },
    {
     "data": {
      "image/png": "[encoded data removed]",
      "text/plain": [
       "<Figure size 432x288 with 1 Axes>"
      ]
     },
     "metadata": {
      "needs_background": "light"
     },
     "output_type": "display_data"
    }
   ],
   "source": [
    "# compute the quadratic approximation to test the gradient and Hessian\n",
    "%matplotlib inline\n",
    "v=energy.grad(points)\n",
    "v.coords = 0.002*np.random.randn(m,3)\n",
    "f,q, s = lorm.utils.eval_objective_function_with_quadratic_approximation(energy,v)\n",
    "plt.plot(s,f,s,q)"
   ]
  },
  {
   "cell_type": "code",
   "execution_count": null,
   "metadata": {},
   "outputs": [],
   "source": []
  }
 ],
 "metadata": {
  "kernelspec": {
   "display_name": "Python 3",
   "language": "python",
   "name": "python3"
  },
  "language_info": {
   "codemirror_mode": {
    "name": "ipython",
    "version": 3
   },
   "file_extension": ".py",
   "mimetype": "text/x-python",
   "name": "python",
   "nbconvert_exporter": "python",
   "pygments_lexer": "ipython3",
   "version": "3.8.5"
  }
 },
 "nbformat": 4,
 "nbformat_minor": 2
}
