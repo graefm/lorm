{
 "cells": [
  {
   "cell_type": "code",
   "execution_count": 35,
   "metadata": {},
   "outputs": [],
   "source": [
    "import numpy as np\n",
    "import matplotlib\n",
    "import matplotlib.pyplot as plt\n",
    "from pythreejs import *\n",
    "from IPython.display import display\n",
    "import lorm\n",
    "from nfft import nfft\n",
    "import disc.energy_curveling_so3"
   ]
  },
  {
   "cell_type": "code",
   "execution_count": 36,
   "metadata": {},
   "outputs": [],
   "source": [
    "def compute_quaternions(point_coords_9d):\n",
    "    point_coords_4d = np.empty([point_coords_9d.shape[0],4])\n",
    "    for i,p in enumerate(point_coords_9d):\n",
    "        point_coords_4d[i,:] = lorm.manif.SO3.compute_quaternion_representation(p)\n",
    "    return point_coords_4d\n",
    "\n",
    "def compute_stereographicprojection(point_coords_4d):\n",
    "    point_coords_3d = np.empty([point_coords_4d.shape[0],3])\n",
    "    for i,p in enumerate(point_coords_4d):\n",
    "        point_coords_3d[i,:] = lorm.manif.Sphere3.compute_stereographicprojection(p)\n",
    "    return point_coords_3d"
   ]
  },
  {
   "cell_type": "code",
   "execution_count": 37,
   "metadata": {},
   "outputs": [],
   "source": [
    "# Fourier coefficients of mu\n",
    "# int_0^1 legendre_p_n(x) dx\n",
    "int_pn = np.array([1., 0.5, 0., -0.125, 0., 0.0625, 0., -0.0390625, 0., 0.0273438, 0., -0.0205078, 0., 0.0161133, 0., -0.013092, 0., 0.01091, 0., -0.00927353, 0., 0.00800896, 0., -0.00700784, 0., 0.00619924, 0., -0.00553504, 0., 0.00498153, 0., -0.00451451, 0., 0.00411617, 0., -0.00377316, 0., 0.00347528, 0., -0.00321463, 0., 0.00298502, 0., -0.00278149, 0., 0.00260009, 0., -0.00243759, 0., 0.00229133, 0., -0.00215914, 0., 0.00203919, 0., -0.00192994, 0., 0.00183012, 0., -0.00173861, 0., 0.00165449, 0., -0.00157693, 0.])"
   ]
  },
  {
   "cell_type": "code",
   "execution_count": 31,
   "metadata": {},
   "outputs": [],
   "source": [
    "# initialize a curve on SO(3)\n",
    "so3 = lorm.manif.SO3()\n",
    "points = lorm.manif.ManifoldPointArrayParameterized(so3)\n",
    "m = 64\n",
    "points.coords = np.zeros([m,3,3])\n",
    "local_coords = np.random.randn(m,3)\n",
    "for i in range(m):\n",
    "    local_coords[i,0] = np.sin(2*np.pi*i/m)+0.25*np.cos(6*np.pi*i/m)\n",
    "    local_coords[i,1] = np.arccos(0.7)\n",
    "    local_coords[i,2] = np.cos(2*np.pi*i/m)\n",
    "points.local_coords = local_coords"
   ]
  },
  {
   "cell_type": "code",
   "execution_count": 41,
   "metadata": {},
   "outputs": [],
   "source": [
    "# setup the energy\n",
    "N = 4\n",
    "m = points.coords.shape[0]\n",
    "energy = disc.energy_curveling_so3.plan(m,N,0.0001,20)\n",
    "for n in range(np.min((N+1,len(int_pn)))):\n",
    "        energy._mu_hat[n,0,0] = int_pn[n]\n",
    "energy._weights = np.real(energy._mu_hat[0,0,0])* np.ones([int(m),1],dtype=float) / int(m)"
   ]
  },
  {
   "cell_type": "code",
   "execution_count": 42,
   "metadata": {},
   "outputs": [
    {
     "data": {
      "application/vnd.jupyter.widget-view+json": {
       "model_id": "51bd600c05cb4780986cfa550d88f927",
       "version_major": 2,
       "version_minor": 0
      },
      "text/plain": [
       "Renderer(camera=PerspectiveCamera(children=(DirectionalLight(color='white', intensity=0.5, position=(3.0, 5.0,…"
      ]
     },
     "metadata": {},
     "output_type": "display_data"
    }
   ],
   "source": [
    "# setup the interactive rendering \n",
    "g1 = BufferGeometry(attributes={'position': BufferAttribute(compute_stereographicprojection(compute_quaternions(points.coords))\n",
    "    , normalized=False) })\n",
    "m1 = LineBasicMaterial(vertexColors='VertexColors', linewidth=3)\n",
    "line1 = Line(g1,m1)\n",
    "\n",
    "c = PerspectiveCamera(position=[0, 2, 2], up=[0, 2, 0],\n",
    "                      children=[DirectionalLight(color='white', position=[3, 5, 1], intensity=0.5)])\n",
    "\n",
    "scene = Scene(children=[line1, c, AmbientLight(color='#777777')])\n",
    "\n",
    "renderer = Renderer(camera=c,\n",
    "                    scene=scene, \n",
    "                    controls=[OrbitControls(controlling=c)])\n",
    "renderer.width =400\n",
    "renderer.height =400\n",
    "display(renderer)\n",
    "\n",
    "def update_points(p):\n",
    "    g1.attributes['position'].array = compute_stereographicprojection(compute_quaternions(p.coords))"
   ]
  },
  {
   "cell_type": "code",
   "execution_count": 43,
   "metadata": {},
   "outputs": [
    {
     "name": "stdout",
     "output_type": "stream",
     "text": [
      "Initial value: f[0] = 0.08877511808693618\n",
      "f[1] = 0.019092011621315474\n",
      "f[2] = 0.011372234096908337\n",
      "f[3] = 0.00942989654952149\n",
      "f[4] = 0.00738167864192447\n",
      "f[5] = 0.006153611373465024\n",
      "f[6] = 0.005386940485775741\n",
      "f[7] = 0.004638626273671325\n",
      "f[8] = 0.004119470034435126\n",
      "f[9] = 0.0035492918916739196\n",
      "f[10] = 0.003222733225995532\n",
      "f[11] = 0.0030952454282859154\n",
      "f[12] = 0.0029816985156228106\n",
      "f[13] = 0.0028505910642509812\n",
      "f[14] = 0.0027438996150661327\n",
      "f[15] = 0.0026424114577000635\n",
      "f[16] = 0.002586490867522803\n",
      "f[17] = 0.0025221052422244048\n",
      "f[18] = 0.002460843808590819\n",
      "f[19] = 0.0023970911406321575\n",
      "f[20] = 0.002356940673595339\n",
      "f[21] = 0.0023364644731662396\n",
      "f[22] = 0.002313682408797587\n",
      "f[23] = 0.0022986033924264344\n",
      "f[24] = 0.002283794389396358\n",
      "f[25] = 0.002273884828326223\n",
      "f[26] = 0.0022631635293935562\n",
      "f[27] = 0.002250583673347255\n",
      "f[28] = 0.002233736974542791\n",
      "f[29] = 0.0022220770216587827\n",
      "f[30] = 0.0022120523149569836\n",
      "f[31] = 0.002197744989414264\n",
      "f[32] = 0.0021803018478882136\n",
      "f[33] = 0.0021687017562262334\n",
      "f[34] = 0.0021597306169868573\n",
      "f[35] = 0.0021531043718285067\n",
      "f[36] = 0.0021493085696553454\n",
      "f[37] = 0.0021441123736482097\n",
      "f[38] = 0.0021355119704273904\n",
      "f[39] = 0.0021290138218011886\n",
      "f[40] = 0.0021235554100656985\n",
      "f[41] = 0.002118656779976797\n",
      "f[42] = 0.0021139470401546983\n",
      "f[43] = 0.002107939994888396\n",
      "f[44] = 0.002101036946481655\n",
      "f[45] = 0.002095708784018374\n",
      "f[46] = 0.002091252694922309\n",
      "f[47] = 0.0020869894646242193\n",
      "f[48] = 0.0020838550386927655\n",
      "f[49] = 0.0020800659825680624\n",
      "f[50] = 0.002075325439340513\n",
      "Reached maximal iterations!\n",
      "Initial value: f[0] = 0.002075325439340513\n",
      "f[1] = 0.002073123932728157\n",
      "f[2] = 0.0020714261512102287\n",
      "f[3] = 0.0020691853368983914\n",
      "f[4] = 0.0020669578371315432\n",
      "f[5] = 0.002064941658064887\n",
      "f[6] = 0.0020616064177716702\n",
      "f[7] = 0.0020574110860436517\n",
      "f[8] = 0.002054747231800992\n",
      "f[9] = 0.002053327086330709\n",
      "f[10] = 0.002050357983295908\n",
      "f[11] = 0.0020459114338835706\n",
      "f[12] = 0.0020433257582628712\n",
      "f[13] = 0.0020420134734706794\n",
      "f[14] = 0.002039360705436102\n",
      "f[15] = 0.0020363156599294404\n",
      "f[16] = 0.002033445402083161\n",
      "f[17] = 0.002026777070243213\n",
      "f[18] = 0.002022909816142062\n",
      "f[19] = 0.0020178259595018907\n",
      "f[20] = 0.0020133136886816886\n",
      "f[21] = 0.0020061994417283663\n",
      "f[22] = 0.001999066432605041\n",
      "f[23] = 0.001992389489755938\n",
      "f[24] = 0.001985422989598586\n",
      "f[25] = 0.0019719572200358887\n",
      "f[26] = 0.0019639356845472925\n",
      "f[27] = 0.0019534549688495434\n",
      "f[28] = 0.0019364025909223885\n",
      "f[29] = 0.0019162997626583362\n",
      "f[30] = 0.0019023537544620543\n",
      "f[31] = 0.0018906728161704632\n",
      "f[32] = 0.0018746998022210787\n",
      "f[33] = 0.0018603671653137524\n",
      "f[34] = 0.001850217020421277\n",
      "f[35] = 0.001836168950760915\n",
      "f[36] = 0.0018286740127095458\n",
      "f[37] = 0.0018215554356265228\n",
      "f[38] = 0.0018159560954983775\n",
      "f[39] = 0.0018097784190358468\n",
      "f[40] = 0.0018053466263523933\n",
      "f[41] = 0.001800458386509735\n",
      "f[42] = 0.0017965481203898895\n",
      "f[43] = 0.0017937373538856672\n",
      "f[44] = 0.0017888540477552142\n",
      "f[45] = 0.0017867052404830072\n",
      "f[46] = 0.0017839738202225304\n",
      "f[47] = 0.0017804661732127279\n",
      "f[48] = 0.001778208689535554\n",
      "f[49] = 0.0017761656296578516\n",
      "f[50] = 0.0017741465890633349\n",
      "Reached maximal iterations!\n",
      "Initial value: f[0] = 0.0017741465890633349\n",
      "f[1] = 0.0017732346412659692\n",
      "f[2] = 0.0017719033421707824\n",
      "f[3] = 0.0017695860635921544\n",
      "f[4] = 0.0017666752773006994\n",
      "f[5] = 0.0017653486211212728\n",
      "f[6] = 0.001764369797883369\n",
      "f[7] = 0.0017634100767628938\n",
      "f[8] = 0.0017624773599627516\n",
      "f[9] = 0.0017614795873556305\n",
      "f[10] = 0.0017608425765167674\n",
      "f[11] = 0.001760274621538005\n",
      "f[12] = 0.0017598891234300066\n",
      "f[13] = 0.0017595211052723913\n",
      "f[14] = 0.0017591530093726917\n",
      "f[15] = 0.0017589133371390163\n",
      "f[16] = 0.0017584583001935452\n",
      "f[17] = 0.0017582329851926466\n",
      "f[18] = 0.0017580348392613344\n",
      "f[19] = 0.001757542668913507\n",
      "f[20] = 0.0017572583482573195\n",
      "f[21] = 0.0017569839749226217\n",
      "f[22] = 0.0017566567683038842\n",
      "f[23] = 0.001756348503886025\n",
      "f[24] = 0.0017561181014940938\n",
      "f[25] = 0.0017557784368660702\n",
      "f[26] = 0.0017553089061200361\n",
      "f[27] = 0.0017551599603236787\n",
      "f[28] = 0.001754928068689798\n",
      "f[29] = 0.0017546621769280123\n",
      "f[30] = 0.0017544877951008915\n",
      "f[31] = 0.0017541593243118883\n",
      "f[32] = 0.0017538197730092174\n",
      "f[33] = 0.0017536355949525249\n",
      "f[34] = 0.0017533783722688359\n",
      "f[35] = 0.0017531310089773983\n",
      "f[36] = 0.001752634315762831\n",
      "f[37] = 0.0017522519631429667\n",
      "f[38] = 0.001751885658630185\n",
      "f[39] = 0.0017516461073319065\n",
      "f[40] = 0.0017511123313022395\n",
      "f[41] = 0.0017503006360211429\n",
      "f[42] = 0.0017501336998421743\n",
      "f[43] = 0.0017495680951850104\n",
      "f[44] = 0.0017489819077807524\n",
      "f[45] = 0.001748684992407826\n",
      "f[46] = 0.001748326681683497\n",
      "f[47] = 0.0017480155375654257\n",
      "f[48] = 0.0017477437705208307\n",
      "f[49] = 0.0017474687069193972\n",
      "f[50] = 0.0017471279541925093\n",
      "Reached maximal iterations!\n"
     ]
    }
   ],
   "source": [
    "# compute a local minimizer of the energy\n",
    "method = lorm.optim.ConjugateGradientMethod(max_iter=50)\n",
    "method.listener = update_points \n",
    "for i in range(3):\n",
    "    points = method.run(energy,points)"
   ]
  },
  {
   "cell_type": "code",
   "execution_count": 44,
   "metadata": {},
   "outputs": [
    {
     "data": {
      "text/plain": [
       "<matplotlib.lines.Line2D at 0x7f4e0fbb70d0>"
      ]
     },
     "execution_count": 44,
     "metadata": {},
     "output_type": "execute_result"
    },
    {
     "data": {
      "image/png": "[encoded data removed]",
      "text/plain": [
       "<Figure size 432x288 with 1 Axes>"
      ]
     },
     "metadata": {
      "needs_background": "light"
     },
     "output_type": "display_data"
    }
   ],
   "source": [
    "#%matplotlib notebook\n",
    "fig = plt.figure()\n",
    "bx = fig.add_subplot(111)\n",
    "bx.axis(np.array([0,m,0.000,1.8*energy._L]))\n",
    "bx.set_xlabel(np.sum(energy._eval_lengths(points.local_coords)))\n",
    "distance = plt.Line2D(np.linspace(0,m,m),m*energy._eval_lengths(points.local_coords))\n",
    "bx.add_line(distance)"
   ]
  },
  {
   "cell_type": "code",
   "execution_count": 50,
   "metadata": {},
   "outputs": [
    {
     "data": {
      "text/plain": [
       "[<matplotlib.lines.Line2D at 0x7f4e0fc74b20>,\n",
       " <matplotlib.lines.Line2D at 0x7f4e0fc74b50>]"
      ]
     },
     "execution_count": 50,
     "metadata": {},
     "output_type": "execute_result"
    },
    {
     "data": {
      "image/png": "[encoded data removed]",
      "text/plain": [
       "<Figure size 432x288 with 1 Axes>"
      ]
     },
     "metadata": {
      "needs_background": "light"
     },
     "output_type": "display_data"
    }
   ],
   "source": [
    "# test the quatradic approximation obtain from the gradient and the Hessian\n",
    "v=energy.grad(points)\n",
    "v.coords = 0.05*np.random.randn(m,9)\n",
    "f,q, s = lorm.utils.eval_objective_function_with_quadratic_approximation(energy,v)\n",
    "plt.plot(s,f,s,q)"
   ]
  }
 ],
 "metadata": {
  "kernelspec": {
   "display_name": "Python 3",
   "language": "python",
   "name": "python3"
  },
  "language_info": {
   "codemirror_mode": {
    "name": "ipython",
    "version": 3
   },
   "file_extension": ".py",
   "mimetype": "text/x-python",
   "name": "python",
   "nbconvert_exporter": "python",
   "pygments_lexer": "ipython3",
   "version": "3.8.5"
  }
 },
 "nbformat": 4,
 "nbformat_minor": 2
}
