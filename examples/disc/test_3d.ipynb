{
 "cells": [
  {
   "cell_type": "code",
   "execution_count": 1,
   "metadata": {},
   "outputs": [],
   "source": [
    "import lorm\n",
    "from nfft import nfft\n",
    "import disc.energy_curveling_3d\n",
    "from pythreejs import *\n",
    "from IPython.display import display\n",
    "#from ipywidgets import VBox, HBox, Checkbox, jslink\n",
    "import numpy as np\n",
    "import matplotlib\n",
    "import matplotlib.pyplot as plt\n",
    "%matplotlib inline  "
   ]
  },
  {
   "cell_type": "code",
   "execution_count": 3,
   "metadata": {},
   "outputs": [],
   "source": [
    "N_half = 50\n",
    "m = 2*N_half\n",
    "x = np.linspace(-0.5,0.5,m,endpoint=False)\n",
    "x1,x2,x3 = np.meshgrid(x,x,x)\n",
    "quat_nodes = np.array([x3.ravel()[:],x1.ravel()[:],x2.ravel()[:]]).transpose()\n",
    "sample = 1.2*(np.loadtxt('data/spock.uo')-np.array([0.5,0.5,0.45]))\n",
    "#mu = np.zeros([m**3],dtype=np.float)\n",
    "#for s in sample:\n",
    "#    mu[:] += np.exp(-30000*((quat_nodes[:,0]-s[1])**2+(quat_nodes[:,1]-s[2])**2+(quat_nodes[:,2]+s[0])**2))\n",
    "#plt.imshow(mu.reshape([m,m,m])[:,:,10],vmin=0)#,vmax=1)"
   ]
  },
  {
   "cell_type": "code",
   "execution_count": 4,
   "metadata": {},
   "outputs": [
    {
     "data": {
      "text/plain": [
       "<matplotlib.image.AxesImage at 0x7f8d08fbbdd8>"
      ]
     },
     "execution_count": 4,
     "metadata": {},
     "output_type": "execute_result"
    },
    {
     "data": {
      "image/png": "[encoded data removed]",
      "text/plain": [
       "<Figure size 432x288 with 1 Axes>"
      ]
     },
     "metadata": {
      "needs_background": "light"
     },
     "output_type": "display_data"
    }
   ],
   "source": [
    "mu=np.loadtxt('spock_voxel.txt')\n",
    "m=int(mu.shape[0]**(1./3))+1\n",
    "plt.imshow(mu.reshape([m,m,m])[:,:,16],vmin=0)#,vmax=1)\n",
    "#np.savetxt('spock_voxel.txt',mu)"
   ]
  },
  {
   "cell_type": "code",
   "execution_count": 5,
   "metadata": {},
   "outputs": [
    {
     "data": {
      "text/plain": [
       "<matplotlib.image.AxesImage at 0x7f8d03fff940>"
      ]
     },
     "execution_count": 5,
     "metadata": {},
     "output_type": "execute_result"
    },
    {
     "data": {
      "image/png": "[encoded data removed]",
      "text/plain": [
       "<Figure size 432x288 with 1 Axes>"
      ]
     },
     "metadata": {
      "needs_background": "light"
     },
     "output_type": "display_data"
    }
   ],
   "source": [
    "#mu = np.zeros([m**3],dtype=np.float)\n",
    "#mu[:] = nn.exp(-10*(quat_nodes[:,0]**2+quat_nodes[:,1]**2+quat_nodes[:,2]**2))\n",
    "#mu[:] = (quat_nodes[:,0]**2+quat_nodes[:,1]**2+quat_nodes[:,2]**2) < 0.45**2\n",
    "#mu[:]-= (quat_nodes[:,0]**2+quat_nodes[:,1]**2+quat_nodes[:,2]**2) < 0.4**2\n",
    "#plt.imshow(mu.reshape([m,m,m])[:,N_half,:],vmin=0,vmax=1)\n",
    "nfft3d = nfft.NFFT3D(m**3,2*N_half,2*N_half,2*N_half)\n",
    "nfft3d.x = quat_nodes\n",
    "nfft3d.precompute_x()\n",
    "nfft3d.f = mu/m**3\n",
    "nfft3d.adjoint()\n",
    "mu_hat = np.zeros([2*N_half,2*N_half,2*N_half],dtype=np.complex)\n",
    "mu_hat[:] = nfft3d.f_hat/nfft3d.f_hat[N_half,N_half,N_half]\n",
    "plt.imshow(np.real(mu_hat[:,N_half,:]))"
   ]
  },
  {
   "cell_type": "code",
   "execution_count": 6,
   "metadata": {},
   "outputs": [],
   "source": [
    "def update_points(p):\n",
    "    g1.attributes['position'].array = p.coords\n",
    "    return"
   ]
  },
  {
   "cell_type": "code",
   "execution_count": 7,
   "metadata": {},
   "outputs": [],
   "source": [
    "e3 = lorm.manif.EuclideanSpace(3)\n",
    "points = lorm.manif.ManifoldPointArray(e3)\n",
    "m = 200\n",
    "#points.coords = 0.3*(np.random.rand(m,3)-0.5)\n",
    "points.coords = np.zeros([m,3])\n",
    "t = np.linspace(0,2*np.pi,m,endpoint=False)\n",
    "#points.coords[:,0] = 0.3*np.sin(t)\n",
    "#points.coords[:,1] = 0.3*np.cos(t)\n",
    "#points.coords[:,2] = 0.3*np.sin(t)\n",
    "#points.coords = 0.4*np.loadtxt('s2_4design.txt')\n",
    "points.coords = np.loadtxt('spock_lines.txt')"
   ]
  },
  {
   "cell_type": "code",
   "execution_count": 8,
   "metadata": {},
   "outputs": [
    {
     "data": {
      "text/plain": [
       "25600"
      ]
     },
     "execution_count": 8,
     "metadata": {},
     "output_type": "execute_result"
    }
   ],
   "source": [
    "N=2*N_half\n",
    "m = points.coords.shape[0]\n",
    "energy = disc.energy_curveling_3d.plan(m,N,0.0000001,5)\n",
    "energy._mu_hat[:] = mu_hat\n",
    "m"
   ]
  },
  {
   "cell_type": "code",
   "execution_count": 9,
   "metadata": {},
   "outputs": [
    {
     "name": "stderr",
     "output_type": "stream",
     "text": [
      "/home/grman/.local/lib/python3.7/site-packages/pythreejs/traits.py:177: UserWarning: 64-bit data types not supported for WebGL data, casting to 32-bit.\n",
      "  warnings.warn('64-bit data types not supported for WebGL '\n"
     ]
    },
    {
     "data": {
      "application/vnd.jupyter.widget-view+json": {
       "model_id": "7458d7c473fc4c1da2a9576f963253d2",
       "version_major": 2,
       "version_minor": 0
      },
      "text/plain": [
       "Renderer(camera=PerspectiveCamera(children=(DirectionalLight(color='white', intensity=0.5, position=(3.0, 5.0,…"
      ]
     },
     "metadata": {},
     "output_type": "display_data"
    }
   ],
   "source": [
    "g1 = BufferGeometry(attributes={'position': BufferAttribute(points.coords, normalized=False) })\n",
    "m1 = LineBasicMaterial(vertexColors='VertexColors', linewidth=3)\n",
    "line1 = Line(g1,m1)\n",
    "\n",
    "c = PerspectiveCamera(position=[0, 2, 2], up=[0, 2, 0],\n",
    "                      children=[DirectionalLight(color='white', position=[3, 5, 1], intensity=0.5)])\n",
    "\n",
    "scene = Scene(children=[line1, c, AmbientLight(color='#777777')])\n",
    "\n",
    "renderer = Renderer(camera=c,\n",
    "                    scene=scene, \n",
    "                    controls=[OrbitControls(controlling=c)])\n",
    "renderer.width =800\n",
    "renderer.height =800\n",
    "display(renderer)"
   ]
  },
  {
   "cell_type": "code",
   "execution_count": 26,
   "metadata": {
    "scrolled": true
   },
   "outputs": [
    {
     "name": "stdout",
     "output_type": "stream",
     "text": [
      "Initial value: f[0] = 1.6781148935853302e-05\n",
      "f[1] = 1.6780876833307657e-05\n",
      "Reached maximal iterations!\n",
      "Initial value: f[0] = 1.6780876833307657e-05\n",
      "f[1] = 1.6780700422141587e-05\n",
      "Reached maximal iterations!\n",
      "Initial value: f[0] = 1.6780700422141587e-05\n",
      "f[1] = 1.6780549316963477e-05\n",
      "Reached maximal iterations!\n"
     ]
    }
   ],
   "source": [
    "#method = lorm.optim.SteepestDescentMethod(max_iter=100)\n",
    "method = lorm.optim.ConjugateGradientMethod(max_iter=1)\n",
    "method.listener = update_points\n",
    "#points_new = lorm.manif.ManifoldPointArray(e3)\n",
    "#points_new.coords = points.coords\n",
    "for i in range(3):\n",
    "    points_new = method.run(energy,points_new)"
   ]
  },
  {
   "cell_type": "code",
   "execution_count": 391,
   "metadata": {},
   "outputs": [
    {
     "name": "stdout",
     "output_type": "stream",
     "text": [
      "-0.3393703963117501 0.33572905455372903\n",
      "-0.2820156239943688 0.4938964339540779\n",
      "-0.355337559581029 0.3535676310876346\n"
     ]
    }
   ],
   "source": [
    "for i in range(3):\n",
    "    print(np.min(points_new.coords[:,i]),np.max(points_new.coords[:,i]))"
   ]
  },
  {
   "cell_type": "code",
   "execution_count": 20,
   "metadata": {},
   "outputs": [],
   "source": [
    "tempc = points_new.coords\n",
    "m2 = len(tempc)\n",
    "temp = np.zeros([2*m2,3])\n",
    "for i in range(m2):\n",
    "    temp[2*i,:] = tempc[i,:]\n",
    "for i in range(m2-1):\n",
    "    temp[2*i+1,:] = (tempc[i,:]+tempc[i+1,:])/2\n",
    "temp[2*m2-1,:] = (tempc[0,:]+tempc[m2-1,:])/2\n",
    "\n",
    "m = len(temp)\n",
    "points.coords = temp"
   ]
  },
  {
   "cell_type": "code",
   "execution_count": 24,
   "metadata": {},
   "outputs": [],
   "source": [
    "np.savetxt('spock_lines.txt',points_new.coords)"
   ]
  },
  {
   "cell_type": "code",
   "execution_count": null,
   "metadata": {},
   "outputs": [],
   "source": []
  }
 ],
 "metadata": {
  "kernelspec": {
   "display_name": "Python 3",
   "language": "python",
   "name": "python3"
  },
  "language_info": {
   "codemirror_mode": {
    "name": "ipython",
    "version": 3
   },
   "file_extension": ".py",
   "mimetype": "text/x-python",
   "name": "python",
   "nbconvert_exporter": "python",
   "pygments_lexer": "ipython3",
   "version": "3.7.3"
  }
 },
 "nbformat": 4,
 "nbformat_minor": 2
}
