{
 "cells": [
  {
   "cell_type": "code",
   "execution_count": 1,
   "metadata": {},
   "outputs": [],
   "source": [
    "import numpy as np\n",
    "import matplotlib\n",
    "import matplotlib.pyplot as plt\n",
    "from pythreejs import *\n",
    "from IPython.display import display\n",
    "import lorm\n",
    "from nfft import nfft\n",
    "import disc.energy_curveling_so3"
   ]
  },
  {
   "cell_type": "code",
   "execution_count": 2,
   "metadata": {},
   "outputs": [],
   "source": [
    "def compute_quaternions(point_coords_9d):\n",
    "    point_coords_4d = np.empty([point_coords_9d.shape[0],4])\n",
    "    for i,p in enumerate(point_coords_9d):\n",
    "        point_coords_4d[i,:] = lorm.manif.SO3.compute_quaternion_representation(p)\n",
    "    return point_coords_4d\n",
    "\n",
    "def compute_stereographicprojection(point_coords_4d):\n",
    "    point_coords_3d = np.empty([point_coords_4d.shape[0],3])\n",
    "    for i,p in enumerate(point_coords_4d):\n",
    "        point_coords_3d[i,:] = lorm.manif.Sphere3.compute_stereographicprojection(p)\n",
    "    return point_coords_3d"
   ]
  },
  {
   "cell_type": "code",
   "execution_count": 3,
   "metadata": {},
   "outputs": [],
   "source": [
    "# Fourier coefficients of mu\n",
    "# int_0^1 legendre_p_n(x) dx\n",
    "int_pn = np.array([1., 0.5, 0., -0.125, 0., 0.0625, 0., -0.0390625, 0., 0.0273438, 0., -0.0205078, 0., 0.0161133, 0., -0.013092, 0., 0.01091, 0., -0.00927353, 0., 0.00800896, 0., -0.00700784, 0., 0.00619924, 0., -0.00553504, 0., 0.00498153, 0., -0.00451451, 0., 0.00411617, 0., -0.00377316, 0., 0.00347528, 0., -0.00321463, 0., 0.00298502, 0., -0.00278149, 0., 0.00260009, 0., -0.00243759, 0., 0.00229133, 0., -0.00215914, 0., 0.00203919, 0., -0.00192994, 0., 0.00183012, 0., -0.00173861, 0., 0.00165449, 0., -0.00157693, 0.])"
   ]
  },
  {
   "cell_type": "code",
   "execution_count": 4,
   "metadata": {},
   "outputs": [],
   "source": [
    "# initialize a curve on SO(3)\n",
    "so3 = lorm.manif.SO3()\n",
    "points = lorm.manif.ManifoldPointArrayParameterized(so3)\n",
    "m = 64\n",
    "points.coords = np.zeros([m,3,3])\n",
    "local_coords = np.random.randn(m,3)\n",
    "for i in range(m):\n",
    "    local_coords[i,0] = np.sin(2*np.pi*i/m)+0.25*np.cos(6*np.pi*i/m)\n",
    "    local_coords[i,1] = np.arccos(0.7)\n",
    "    local_coords[i,2] = np.cos(2*np.pi*i/m)\n",
    "points.local_coords = local_coords"
   ]
  },
  {
   "cell_type": "code",
   "execution_count": 5,
   "metadata": {},
   "outputs": [],
   "source": [
    "# setup the energy\n",
    "N = 4\n",
    "m = points.coords.shape[0]\n",
    "energy = disc.energy_curveling_so3.plan(m,N,0.0001,20)\n",
    "for n in range(np.min((N+1,len(int_pn)))):\n",
    "        energy._mu_hat[n,0,0] = int_pn[n]\n",
    "energy._weights = np.real(energy._mu_hat[0,0,0])* np.ones([int(m),1],dtype=float) / int(m)"
   ]
  },
  {
   "cell_type": "code",
   "execution_count": 7,
   "metadata": {},
   "outputs": [
    {
     "data": {
      "application/vnd.jupyter.widget-view+json": {
       "model_id": "9f873f78b8104d55be1ff4c348cb2133",
       "version_major": 2,
       "version_minor": 0
      },
      "text/plain": [
       "Renderer(camera=PerspectiveCamera(children=(DirectionalLight(color='white', intensity=0.5, position=(3.0, 5.0,…"
      ]
     },
     "metadata": {},
     "output_type": "display_data"
    }
   ],
   "source": [
    "# setup the interactive rendering \n",
    "g1 = BufferGeometry(attributes={'position': BufferAttribute(compute_stereographicprojection(compute_quaternions(points.coords.astype(np.float32)))\n",
    "    , normalized=False) })\n",
    "m1 = LineBasicMaterial(vertexColors='VertexColors', linewidth=3)\n",
    "line1 = Line(g1,m1)\n",
    "\n",
    "c = PerspectiveCamera(position=[0, 2, 2], up=[0, 2, 0],\n",
    "                      children=[DirectionalLight(color='white', position=[3, 5, 1], intensity=0.5)])\n",
    "\n",
    "scene = Scene(children=[line1, c, AmbientLight(color='#777777')])\n",
    "\n",
    "renderer = Renderer(camera=c,\n",
    "                    scene=scene, \n",
    "                    controls=[OrbitControls(controlling=c)])\n",
    "renderer.width =400\n",
    "renderer.height =400\n",
    "display(renderer)\n",
    "\n",
    "def update_points(p):\n",
    "    g1.attributes['position'].array = compute_stereographicprojection(compute_quaternions(p.coords.astype(np.float32)))"
   ]
  },
  {
   "cell_type": "code",
   "execution_count": 8,
   "metadata": {},
   "outputs": [
    {
     "name": "stdout",
     "output_type": "stream",
     "text": [
      "Initial value: f[0] = 0.08877511808747973\n",
      "f[1] = 0.02454591929341388\n",
      "f[2] = 0.015898428352770583\n",
      "f[3] = 0.01146544704406139\n",
      "f[4] = 0.008254727876211154\n",
      "f[5] = 0.006517941485258935\n",
      "f[6] = 0.005834306061420236\n",
      "f[7] = 0.004562194617639951\n",
      "f[8] = 0.00405399997644919\n",
      "f[9] = 0.00335863029772106\n",
      "f[10] = 0.0031293888669893886\n",
      "f[11] = 0.003016186703872369\n",
      "f[12] = 0.002919918577033746\n",
      "f[13] = 0.002823864228850664\n",
      "f[14] = 0.00273522277700335\n",
      "f[15] = 0.002656731798710492\n",
      "f[16] = 0.002582974393723463\n",
      "f[17] = 0.002510783859955175\n",
      "f[18] = 0.002455043820685867\n",
      "f[19] = 0.002423103350700422\n",
      "f[20] = 0.0023971638603411446\n",
      "f[21] = 0.0023677711112341346\n",
      "f[22] = 0.0023354128962761508\n",
      "f[23] = 0.0023222555728769226\n",
      "f[24] = 0.002308643734918713\n",
      "f[25] = 0.0022962553152643794\n",
      "f[26] = 0.0022814632313443786\n",
      "f[27] = 0.0022713453463732575\n",
      "f[28] = 0.0022605229268684644\n",
      "f[29] = 0.0022445276097851916\n",
      "f[30] = 0.0022302712380637933\n",
      "f[31] = 0.0022184394918553247\n",
      "f[32] = 0.002209566383058273\n",
      "f[33] = 0.0021977271479650287\n",
      "f[34] = 0.0021912500839994763\n",
      "f[35] = 0.0021838063530488605\n",
      "f[36] = 0.002176869464204049\n",
      "f[37] = 0.002171334677526307\n",
      "f[38] = 0.002165620810132164\n",
      "f[39] = 0.00215789558442532\n",
      "f[40] = 0.0021502294185149064\n",
      "f[41] = 0.0021405605334457447\n",
      "f[42] = 0.0021324545554949033\n",
      "f[43] = 0.0021256585127873476\n",
      "f[44] = 0.002122202930341293\n",
      "f[45] = 0.002117282300715978\n",
      "f[46] = 0.002113459359996356\n",
      "f[47] = 0.0021084774799776623\n",
      "f[48] = 0.002104405609015506\n",
      "f[49] = 0.0021013421837137057\n",
      "f[50] = 0.0020981402150772894\n",
      "Reached maximal iterations!\n",
      "Initial value: f[0] = 0.0020981402150772894\n",
      "f[1] = 0.002096383219902878\n",
      "f[2] = 0.002094429023286964\n",
      "f[3] = 0.0020921194807764455\n",
      "f[4] = 0.0020898062979596154\n",
      "f[5] = 0.002087293549577409\n",
      "f[6] = 0.002085286892641698\n",
      "f[7] = 0.00208333181366031\n",
      "f[8] = 0.002081470003296764\n",
      "f[9] = 0.0020792729270710385\n",
      "f[10] = 0.0020770061051471078\n",
      "f[11] = 0.002075061697106086\n",
      "f[12] = 0.002073727709668827\n",
      "f[13] = 0.0020727601041340875\n",
      "f[14] = 0.0020712345205834183\n",
      "f[15] = 0.00207037104716042\n",
      "f[16] = 0.0020685599845812882\n",
      "f[17] = 0.002066920141976162\n",
      "f[18] = 0.002064117278914167\n",
      "f[19] = 0.0020627027243933366\n",
      "f[20] = 0.002060814701816081\n",
      "f[21] = 0.0020576604843588926\n",
      "f[22] = 0.0020559967427347388\n",
      "f[23] = 0.002053707886547214\n",
      "f[24] = 0.002050767205724755\n",
      "f[25] = 0.002047811320429465\n",
      "f[26] = 0.002043892680921453\n",
      "f[27] = 0.0020397823583300275\n",
      "f[28] = 0.002035984978490537\n",
      "f[29] = 0.0020285180567937225\n",
      "f[30] = 0.0020221262251714544\n",
      "f[31] = 0.002013756878484316\n",
      "f[32] = 0.00200605926151759\n",
      "f[33] = 0.001994068454896587\n",
      "f[34] = 0.0019824419277650264\n",
      "f[35] = 0.0019714516990077383\n",
      "f[36] = 0.001963178831112498\n",
      "f[37] = 0.001951193064976738\n",
      "f[38] = 0.0019397541148827692\n",
      "f[39] = 0.0019257837211420208\n",
      "f[40] = 0.0019167026419537863\n",
      "f[41] = 0.0019056124924353313\n",
      "f[42] = 0.0018901610287781721\n",
      "f[43] = 0.001881601162985906\n",
      "f[44] = 0.001870988606411573\n",
      "f[45] = 0.0018558078148554645\n",
      "f[46] = 0.0018455650925993956\n",
      "f[47] = 0.001838733892091195\n",
      "f[48] = 0.0018321729007106957\n",
      "f[49] = 0.0018260723595703865\n",
      "f[50] = 0.0018205992833421757\n",
      "Reached maximal iterations!\n",
      "Initial value: f[0] = 0.0018205992833421757\n",
      "f[1] = 0.001818058629438457\n",
      "f[2] = 0.0018122328637525133\n",
      "f[3] = 0.00180432233837812\n",
      "f[4] = 0.0017964730928365783\n",
      "f[5] = 0.0017915048000880867\n",
      "f[6] = 0.0017841586357369187\n",
      "f[7] = 0.0017796608807145167\n",
      "f[8] = 0.001775203546274415\n",
      "f[9] = 0.0017712685749941921\n",
      "f[10] = 0.0017695894896757518\n",
      "f[11] = 0.0017673113940923223\n",
      "f[12] = 0.001765936466150136\n",
      "f[13] = 0.0017652345672917486\n",
      "f[14] = 0.0017640057025062057\n",
      "f[15] = 0.0017633505043939239\n",
      "f[16] = 0.0017621413269378638\n",
      "f[17] = 0.001761098479382448\n",
      "f[18] = 0.0017598108283585585\n",
      "f[19] = 0.0017594623615486858\n",
      "f[20] = 0.0017586075798126657\n",
      "f[21] = 0.0017579316147094833\n",
      "f[22] = 0.0017575989102669993\n",
      "f[23] = 0.0017572302495274196\n",
      "f[24] = 0.0017569306521779222\n",
      "f[25] = 0.0017565916756000187\n",
      "f[26] = 0.0017562232259551779\n",
      "f[27] = 0.0017559456676633407\n",
      "f[28] = 0.0017558166167315834\n",
      "f[29] = 0.0017555762352202825\n",
      "f[30] = 0.0017552984286391697\n",
      "f[31] = 0.0017551319935496582\n",
      "f[32] = 0.0017548652102071642\n",
      "f[33] = 0.0017544147250302862\n",
      "f[34] = 0.0017540587160885387\n",
      "f[35] = 0.0017534804596196485\n",
      "f[36] = 0.0017532294334708862\n",
      "f[37] = 0.0017526911824894084\n",
      "f[38] = 0.0017523114600949854\n",
      "f[39] = 0.0017517792680608456\n",
      "f[40] = 0.0017512940408249279\n",
      "f[41] = 0.0017508969213940921\n",
      "f[42] = 0.0017504475532423567\n",
      "f[43] = 0.0017501047993564514\n",
      "f[44] = 0.00174971085343824\n",
      "f[45] = 0.001749415589913416\n",
      "f[46] = 0.001749229550850991\n",
      "f[47] = 0.0017489494241082796\n",
      "f[48] = 0.0017485903067572443\n",
      "f[49] = 0.0017484224791879878\n",
      "f[50] = 0.0017482547577712091\n",
      "Reached maximal iterations!\n"
     ]
    }
   ],
   "source": [
    "# compute a local minimizer of the energy\n",
    "method = lorm.optim.ConjugateGradientMethod(max_iter=50)\n",
    "method.listener = update_points \n",
    "for i in range(3):\n",
    "    points = method.run(energy,points)"
   ]
  },
  {
   "cell_type": "code",
   "execution_count": 9,
   "metadata": {},
   "outputs": [
    {
     "data": {
      "text/plain": [
       "<matplotlib.lines.Line2D at 0x7f47dae0c130>"
      ]
     },
     "execution_count": 9,
     "metadata": {},
     "output_type": "execute_result"
    },
    {
     "data": {
      "image/png": "[encoded data removed]",
      "text/plain": [
       "<Figure size 432x288 with 1 Axes>"
      ]
     },
     "metadata": {
      "needs_background": "light"
     },
     "output_type": "display_data"
    }
   ],
   "source": [
    "#%matplotlib notebook\n",
    "fig = plt.figure()\n",
    "bx = fig.add_subplot(111)\n",
    "bx.axis(np.array([0,m,0.000,1.8*energy._L]))\n",
    "bx.set_xlabel(np.sum(energy._eval_lengths(points.local_coords)))\n",
    "distance = plt.Line2D(np.linspace(0,m,m),m*energy._eval_lengths(points.local_coords))\n",
    "bx.add_line(distance)"
   ]
  },
  {
   "cell_type": "code",
   "execution_count": 10,
   "metadata": {},
   "outputs": [
    {
     "data": {
      "text/plain": [
       "[<matplotlib.lines.Line2D at 0x7f47c6fc0850>,\n",
       " <matplotlib.lines.Line2D at 0x7f47c6fc07f0>]"
      ]
     },
     "execution_count": 10,
     "metadata": {},
     "output_type": "execute_result"
    },
    {
     "data": {
      "image/png": "[encoded data removed]",
      "text/plain": [
       "<Figure size 432x288 with 1 Axes>"
      ]
     },
     "metadata": {
      "needs_background": "light"
     },
     "output_type": "display_data"
    }
   ],
   "source": [
    "# test the quatradic approximation obtain from the gradient and the Hessian\n",
    "v=energy.grad(points)\n",
    "v.coords = 0.05*np.random.randn(m,9)\n",
    "f,q, s = lorm.utils.eval_objective_function_with_quadratic_approximation(energy,v)\n",
    "plt.plot(s,f,s,q)"
   ]
  },
  {
   "cell_type": "code",
   "execution_count": null,
   "metadata": {},
   "outputs": [],
   "source": []
  }
 ],
 "metadata": {
  "kernelspec": {
   "display_name": "Python 3 (ipykernel)",
   "language": "python",
   "name": "python3"
  },
  "language_info": {
   "codemirror_mode": {
    "name": "ipython",
    "version": 3
   },
   "file_extension": ".py",
   "mimetype": "text/x-python",
   "name": "python",
   "nbconvert_exporter": "python",
   "pygments_lexer": "ipython3",
   "version": "3.10.4"
  }
 },
 "nbformat": 4,
 "nbformat_minor": 2
}
